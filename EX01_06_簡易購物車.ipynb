{
  "nbformat": 4,
  "nbformat_minor": 0,
  "metadata": {
    "colab": {
      "provenance": [],
      "authorship_tag": "ABX9TyMlVR2r9w8A+8FiwHSQXM/t",
      "include_colab_link": true
    },
    "kernelspec": {
      "name": "python3",
      "display_name": "Python 3"
    },
    "language_info": {
      "name": "python"
    }
  },
  "cells": [
    {
      "cell_type": "markdown",
      "metadata": {
        "id": "view-in-github",
        "colab_type": "text"
      },
      "source": [
        "<a href=\"https://colab.research.google.com/github/meng430/repo0/blob/main/EX01_06_%E7%B0%A1%E6%98%93%E8%B3%BC%E7%89%A9%E8%BB%8A.ipynb\" target=\"_parent\"><img src=\"https://colab.research.google.com/assets/colab-badge.svg\" alt=\"Open In Colab\"/></a>"
      ]
    },
    {
      "cell_type": "code",
      "execution_count": 4,
      "metadata": {
        "colab": {
          "base_uri": "https://localhost:8080/"
        },
        "id": "x1o-1yfgMf1O",
        "outputId": "5f1e97c1-c13d-405b-dac7-4bc868e5d97d"
      },
      "outputs": [
        {
          "output_type": "stream",
          "name": "stdout",
          "text": [
            "商品欄: apple/25,banana/12,cherry/30\n",
            "購物車: banana,banana\n",
            "功能列: 1.新增商品 2.移除商品 3.結帳 4.離開\n",
            "3\n",
            "結帳金額: 24\n"
          ]
        }
      ],
      "source": [
        "from IPython.display import clear_output\n",
        "\n",
        "shopping_cart = []\n",
        "products = {\"apple\": 25, \"banana\": 12, \"cherry\": 30}\n",
        "\n",
        "while True:\n",
        "  clear_output()\n",
        "  print(\"商品欄:\", \",\".join([f'{pd}/{pr}'for pd,pr in products.items()]))\n",
        "  print(\"購物車:\", \",\".join(shopping_cart))\n",
        "  print(\"功能列:\", \"1.新增商品 2.移除商品 3.結帳 4.離開\")\n",
        "  act = input()\n",
        "  #第一個字代表功能\n",
        "  if act[0] == \"1\":\n",
        "    shopping_cart.append(act[1:])\n",
        "  elif act[0] == \"2\":\n",
        "    shopping_cart.remove(act[1:])\n",
        "  elif act[0] == \"3\":\n",
        "    tt = 0\n",
        "    for pd in shopping_cart:\n",
        "      tt += products[pd]\n",
        "    print(\"結帳金額:\", tt)\n",
        "    break\n",
        "  else:\n",
        "    print(\"bye\")\n",
        "    break"
      ]
    }
  ]
}