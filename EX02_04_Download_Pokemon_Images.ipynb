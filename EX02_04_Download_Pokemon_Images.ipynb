{
  "nbformat": 4,
  "nbformat_minor": 0,
  "metadata": {
    "colab": {
      "provenance": [],
      "mount_file_id": "1-r-4_IC2x8fnO-8hAwcpTW1Bs4m47XjO",
      "authorship_tag": "ABX9TyOl3rWr9xupORADIkwWH6j1",
      "include_colab_link": true
    },
    "kernelspec": {
      "name": "python3",
      "display_name": "Python 3"
    },
    "language_info": {
      "name": "python"
    }
  },
  "cells": [
    {
      "cell_type": "markdown",
      "metadata": {
        "id": "view-in-github",
        "colab_type": "text"
      },
      "source": [
        "<a href=\"https://colab.research.google.com/github/meng430/repo0/blob/main/EX02_04_Download_Pokemon_Images.ipynb\" target=\"_parent\"><img src=\"https://colab.research.google.com/assets/colab-badge.svg\" alt=\"Open In Colab\"/></a>"
      ]
    },
    {
      "cell_type": "code",
      "source": [
        "import requests\n",
        "from bs4 import BeautifulSoup\n",
        "\n",
        "for id in range(1, 11):\n",
        "  img_url = f'https://tw.portal-pokemon.com/play/pokedex/{id:04}'\n",
        "  response = requests.get(img_url)\n",
        "  soup = BeautifulSoup(response.text, 'lxml')\n",
        "  img_src = soup.find('img', class_ = 'pokemon-img__front')['src']\n",
        "  img_url = \"https://tw.portal-pokemon.com/\" + img_src\n",
        "  img = requests.get(img_url)\n",
        "  with open(f'/content/pokemon{id}.png', 'wb') as f:\n",
        "    f.write(img.content)"
      ],
      "metadata": {
        "id": "64qZvJmqcUyH"
      },
      "execution_count": null,
      "outputs": []
    }
  ]
}