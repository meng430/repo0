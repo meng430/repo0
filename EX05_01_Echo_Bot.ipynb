{
  "nbformat": 4,
  "nbformat_minor": 0,
  "metadata": {
    "colab": {
      "provenance": [],
      "authorship_tag": "ABX9TyMewHNjQYoBVaPLK0yh71Un",
      "include_colab_link": true
    },
    "kernelspec": {
      "name": "python3",
      "display_name": "Python 3"
    },
    "language_info": {
      "name": "python"
    }
  },
  "cells": [
    {
      "cell_type": "markdown",
      "metadata": {
        "id": "view-in-github",
        "colab_type": "text"
      },
      "source": [
        "<a href=\"https://colab.research.google.com/github/meng430/repo0/blob/main/EX05_01_Echo_Bot.ipynb\" target=\"_parent\"><img src=\"https://colab.research.google.com/assets/colab-badge.svg\" alt=\"Open In Colab\"/></a>"
      ]
    },
    {
      "cell_type": "code",
      "execution_count": 12,
      "metadata": {
        "id": "WrBLIsE1hj9v"
      },
      "outputs": [],
      "source": [
        "!pip install -q flask pyngrok flask_ngrok line-bot-sdk"
      ]
    },
    {
      "cell_type": "code",
      "source": [
        "from google.colab import userdata\n",
        "from pyngrok import ngrok\n",
        "from flask_ngrok import run_with_ngrok\n",
        "def ngrok_start():\n",
        "  ngrok.set_auth_token(userdata.get('ngrok_auth_token'))\n",
        "  public_url = ngrok.connect(5000)\n",
        "  print(\"🔗 你的 HTTPS 網址：\", public_url)\n",
        "\n",
        "from flask import Flask, request, abort\n",
        "\n",
        "from linebot.v3 import (\n",
        "    WebhookHandler\n",
        ")\n",
        "from linebot.v3.exceptions import (\n",
        "    InvalidSignatureError\n",
        ")\n",
        "from linebot.v3.messaging import (\n",
        "    Configuration,\n",
        "    ApiClient,\n",
        "    MessagingApi,\n",
        "    ReplyMessageRequest,\n",
        "    TextMessage\n",
        ")\n",
        "from linebot.v3.webhooks import (\n",
        "    MessageEvent,\n",
        "    TextMessageContent\n",
        ")\n",
        "\n",
        "\n",
        "app = Flask(__name__)\n",
        "\n",
        "configuration = Configuration(access_token=userdata.get('Line_Channel_access_token'))\n",
        "handler = WebhookHandler(userdata.get('Line_Channel_secret'))\n",
        "\n",
        "\n",
        "@app.route(\"/callback\", methods=['POST'])\n",
        "def callback():\n",
        "    # get X-Line-Signature header value\n",
        "    signature = request.headers['X-Line-Signature']\n",
        "\n",
        "    # get request body as text\n",
        "    body = request.get_data(as_text=True)\n",
        "    app.logger.info(\"Request body: \" + body)\n",
        "\n",
        "    # handle webhook body\n",
        "    try:\n",
        "        handler.handle(body, signature)\n",
        "    except InvalidSignatureError:\n",
        "        app.logger.info(\"Invalid signature. Please check your channel access token/channel secret.\")\n",
        "        abort(400)\n",
        "\n",
        "    return 'OK'\n",
        "\n",
        "\n",
        "@handler.add(MessageEvent, message=TextMessageContent)\n",
        "def handle_message(event):\n",
        "    with ApiClient(configuration) as api_client:\n",
        "        line_bot_api = MessagingApi(api_client)\n",
        "        line_bot_api.reply_message_with_http_info(\n",
        "            ReplyMessageRequest(\n",
        "                reply_token=event.reply_token,\n",
        "                messages=[TextMessage(text=event.message.text)]\n",
        "            )\n",
        "        )\n",
        "ngrok_start()\n",
        "if __name__ == \"__main__\":\n",
        "    app.run(port=5000)\n"
      ],
      "metadata": {
        "id": "o4EIU0wMvmUN",
        "colab": {
          "base_uri": "https://localhost:8080/"
        },
        "outputId": "653dfb82-987c-4a5d-c610-747e8c454ef4"
      },
      "execution_count": null,
      "outputs": [
        {
          "output_type": "stream",
          "name": "stdout",
          "text": [
            "🔗 你的 HTTPS 網址： NgrokTunnel: \"https://2874-34-125-241-108.ngrok-free.app\" -> \"http://localhost:5000\"\n",
            " * Serving Flask app '__main__'\n",
            " * Debug mode: off\n"
          ]
        },
        {
          "output_type": "stream",
          "name": "stderr",
          "text": [
            "INFO:werkzeug:\u001b[31m\u001b[1mWARNING: This is a development server. Do not use it in a production deployment. Use a production WSGI server instead.\u001b[0m\n",
            " * Running on http://127.0.0.1:5000\n",
            "INFO:werkzeug:\u001b[33mPress CTRL+C to quit\u001b[0m\n",
            "INFO:werkzeug:127.0.0.1 - - [07/May/2025 12:22:11] \"POST /callback HTTP/1.1\" 200 -\n",
            "INFO:werkzeug:127.0.0.1 - - [07/May/2025 12:22:17] \"POST /callback HTTP/1.1\" 200 -\n",
            "WARNING:pyngrok.process.ngrok:t=2025-05-07T12:29:13+0000 lvl=warn msg=\"Stopping forwarder\" name=http-5000-e7266560-c5e8-4048-abee-6795c4024aa1 acceptErr=\"failed to accept connection: Listener closed\"\n",
            "WARNING:pyngrok.process.ngrok:t=2025-05-07T12:29:13+0000 lvl=warn msg=\"Error restarting forwarder\" name=http-5000-e7266560-c5e8-4048-abee-6795c4024aa1 err=\"failed to start tunnel: session closed\"\n"
          ]
        }
      ]
    }
  ]
}