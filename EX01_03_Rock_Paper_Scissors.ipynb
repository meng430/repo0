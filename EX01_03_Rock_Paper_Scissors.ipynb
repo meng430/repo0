{
  "nbformat": 4,
  "nbformat_minor": 0,
  "metadata": {
    "colab": {
      "provenance": [],
      "authorship_tag": "ABX9TyMoyWIm2aePGtAiCUID6PXN",
      "include_colab_link": true
    },
    "kernelspec": {
      "name": "python3",
      "display_name": "Python 3"
    },
    "language_info": {
      "name": "python"
    }
  },
  "cells": [
    {
      "cell_type": "markdown",
      "metadata": {
        "id": "view-in-github",
        "colab_type": "text"
      },
      "source": [
        "<a href=\"https://colab.research.google.com/github/meng430/repo0/blob/main/EX01_03_Rock_Paper_Scissors.ipynb\" target=\"_parent\"><img src=\"https://colab.research.google.com/assets/colab-badge.svg\" alt=\"Open In Colab\"/></a>"
      ]
    },
    {
      "cell_type": "code",
      "execution_count": 2,
      "metadata": {
        "colab": {
          "base_uri": "https://localhost:8080/"
        },
        "id": "L5AdRPWwRop9",
        "outputId": "7ff10109-d203-4dc8-fb6b-a4af78fed9d9"
      },
      "outputs": [
        {
          "output_type": "stream",
          "name": "stdout",
          "text": [
            "2\n",
            "computer choice: 5\n",
            "you win\n"
          ]
        }
      ],
      "source": [
        "import random\n",
        "ply = int(input())\n",
        "cpt = random.choice([0, 2, 5])\n",
        "print(\"computer choice:\", cpt)\n",
        "if ply == cpt:\n",
        "  print(\"draw\")\n",
        "elif (ply == 0 and cpt == 2) or (ply == 2 and cpt == 5) or (ply == 5 and cpt == 0):\n",
        "  print(\"you win\")\n",
        "else:\n",
        "  print(\"you lose\")"
      ]
    }
  ]
}