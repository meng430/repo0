{
  "nbformat": 4,
  "nbformat_minor": 0,
  "metadata": {
    "colab": {
      "provenance": [],
      "authorship_tag": "ABX9TyOk9qt+0ULAsLtE9hxougay",
      "include_colab_link": true
    },
    "kernelspec": {
      "name": "python3",
      "display_name": "Python 3"
    },
    "language_info": {
      "name": "python"
    }
  },
  "cells": [
    {
      "cell_type": "markdown",
      "metadata": {
        "id": "view-in-github",
        "colab_type": "text"
      },
      "source": [
        "<a href=\"https://colab.research.google.com/github/meng430/repo0/blob/main/EX05_04_Reply_Template_Messages.ipynb\" target=\"_parent\"><img src=\"https://colab.research.google.com/assets/colab-badge.svg\" alt=\"Open In Colab\"/></a>"
      ]
    },
    {
      "cell_type": "code",
      "execution_count": 3,
      "metadata": {
        "id": "1qHY1ULZWVME",
        "colab": {
          "base_uri": "https://localhost:8080/"
        },
        "outputId": "3437bd0b-a3fa-49e3-d43e-7c2c4425912a"
      },
      "outputs": [
        {
          "output_type": "stream",
          "name": "stdout",
          "text": [
            "\u001b[?25l   \u001b[90m━━━━━━━━━━━━━━━━━━━━━━━━━━━━━━━━━━━━━━━━\u001b[0m \u001b[32m0.0/776.1 kB\u001b[0m \u001b[31m?\u001b[0m eta \u001b[36m-:--:--\u001b[0m\r\u001b[2K   \u001b[91m━━━━━━━━━━━━━━\u001b[0m\u001b[91m╸\u001b[0m\u001b[90m━━━━━━━━━━━━━━━━━━━━━━━━━\u001b[0m \u001b[32m286.7/776.1 kB\u001b[0m \u001b[31m8.4 MB/s\u001b[0m eta \u001b[36m0:00:01\u001b[0m\r\u001b[2K   \u001b[90m━━━━━━━━━━━━━━━━━━━━━━━━━━━━━━━━━━━━━━━━\u001b[0m \u001b[32m776.1/776.1 kB\u001b[0m \u001b[31m11.6 MB/s\u001b[0m eta \u001b[36m0:00:00\u001b[0m\n",
            "\u001b[?25h\u001b[?25l   \u001b[90m━━━━━━━━━━━━━━━━━━━━━━━━━━━━━━━━━━━━━━━━\u001b[0m \u001b[32m0.0/165.6 kB\u001b[0m \u001b[31m?\u001b[0m eta \u001b[36m-:--:--\u001b[0m\r\u001b[2K   \u001b[90m━━━━━━━━━━━━━━━━━━━━━━━━━━━━━━━━━━━━━━━━\u001b[0m \u001b[32m165.6/165.6 kB\u001b[0m \u001b[31m13.5 MB/s\u001b[0m eta \u001b[36m0:00:00\u001b[0m\n",
            "\u001b[?25h"
          ]
        }
      ],
      "source": [
        "!pip install -q pyngrok flask_ngrok # for colab\n",
        "!pip install -q flask line-bot-sdk"
      ]
    },
    {
      "cell_type": "code",
      "source": [
        "from re import template\n",
        "# for colab\n",
        "from google.colab import userdata\n",
        "from pyngrok import ngrok\n",
        "from flask_ngrok import run_with_ngrok\n",
        "def ngrok_start():\n",
        "    ngrok.set_auth_token(userdata.get('ngrok_auth_token'))\n",
        "    public_url = ngrok.connect(5000)\n",
        "    print(\"🌐 Public URL:\", public_url)\n",
        "    run_with_ngrok(app)\n",
        "\n",
        "from flask import Flask, request, abort\n",
        "\n",
        "from linebot.v3 import WebhookHandler\n",
        "from linebot.v3.exceptions import InvalidSignatureError\n",
        "from linebot.v3.webhooks import MessageEvent, TextMessageContent\n",
        "from linebot.v3.messaging import (\n",
        "    Configuration, ApiClient, MessagingApi,\n",
        "    ReplyMessageRequest,\n",
        "    TextMessage,\n",
        "    TemplateMessage, ConfirmTemplate, MessageAction,\n",
        "    CarouselTemplate,\n",
        "    CarouselColumn,\n",
        "    URIAction,\n",
        "    PostbackAction\n",
        ")\n",
        "\n",
        "app = Flask(__name__)\n",
        "\n",
        "@app.route(\"/\", methods=['GET'])\n",
        "def index():\n",
        "  return 'hello!'\n",
        "\n",
        "\n",
        "configuration = Configuration(access_token=userdata.get('Line_Channel_access_token'))\n",
        "handler = WebhookHandler(userdata.get('Line_Channel_secret'))\n",
        "\n",
        "@app.route(\"/callback\", methods=['POST'])\n",
        "def callback():\n",
        "    signature = request.headers['X-Line-Signature']\n",
        "    body = request.get_data(as_text=True)\n",
        "    try:\n",
        "        handler.handle(body, signature)\n",
        "    except InvalidSignatureError:\n",
        "        abort(400)\n",
        "    return 'OK'\n",
        "\n",
        "\n",
        "@handler.add(MessageEvent, message=TextMessageContent)\n",
        "def handle_message(event):\n",
        "  with ApiClient(configuration) as api_client:\n",
        "    line_bot_api = MessagingApi(api_client)\n",
        "\n",
        "    action = event.message.text\n",
        "    if action == 'confirm':\n",
        "      reply = TemplateMessage(\n",
        "        alt_text='這是確認視窗',\n",
        "        template = ConfirmTemplate(\n",
        "          text='你喜歡吃薯條嗎?',\n",
        "          actions=[\n",
        "            MessageAction(label='Yes', text='薯條好好吃'),\n",
        "            MessageAction(label='No', text='不喜歡薯條')\n",
        "          ]\n",
        "        )\n",
        "      )\n",
        "    elif action == 'carousel':\n",
        "      carousel_template = CarouselTemplate(\n",
        "        columns=[\n",
        "          CarouselColumn(\n",
        "            thumbnailImageurl='https://cdn.pixabay.com/photo/2020/06/23/14/33/french-fries-5332766_1280.jpg',\n",
        "            title='馬鈴薯薯條',\n",
        "            text='這是馬鈴薯薯條。',\n",
        "            actions=[\n",
        "              URIAction(label='維基百科',uri='https://upload.wikimedia.org/wikipedia/commons/thumb/c/ca/Truffle_Fries_%28Unsplash%29.jpg/500px-Truffle_Fries_%28Unsplash%29.jpg'),\n",
        "              URIAction(label='YouTube',uri='https://www.youtube.com/watch?v=57feiF0Gub4&t=220s&ab_channel=%E8%85%A6%E6%B4%9E%E5%A4%A7%E9%96%8B'),\n",
        "              MessageAction(label='投票', text='我投馬鈴薯薯條一票'),\n",
        "            ]\n",
        "          ),\n",
        "\n",
        "          CarouselColumn(\n",
        "            thumbnailImageurl='https://cdn.pixabay.com/photo/2016/01/26/00/53/potatoe-1161819_1280.jpg',\n",
        "            title='地瓜薯條',\n",
        "            text='這是地瓜薯條。',\n",
        "            actions=[\n",
        "                URIAction(label='維基百科',uri='https://zh.wikipedia.org/zh-tw/%E7%94%98%E6%A2%85%E8%96%AF%E6%A2%9D'),\n",
        "                URIAction(label='YouTube',uri='https://www.youtube.com/watch?v=huJHsYwzzO8&ab_channel=ETtoday%E6%97%85%E9%81%8A%E9%9B%B2'),\n",
        "                MessageAction(label='投票', text='我投地瓜薯條一票'),\n",
        "            ]\n",
        "          )\n",
        "        ]\n",
        "      )\n",
        "      reply = TemplateMessage(\n",
        "        alt_text='這是輪播視窗',\n",
        "        template=carousel_template\n",
        "      )\n",
        "    else:\n",
        "      reply = TextMessage(text='Thanks!')\n",
        "\n",
        "    line_bot_api.reply_message(\n",
        "      ReplyMessageRequest(\n",
        "        reply_token=event.reply_token,\n",
        "        messages=[\n",
        "          reply\n",
        "        ]\n",
        "      )\n",
        "    )\n",
        "\n",
        "\n",
        "\n",
        "ngrok_start() # for colab\n",
        "if __name__ == \"__main__\":\n",
        "    app.run()"
      ],
      "metadata": {
        "colab": {
          "base_uri": "https://localhost:8080/"
        },
        "id": "V2bi76mzWu2E",
        "outputId": "d86266dd-4ec9-4b0f-ab90-ae820397d4b9"
      },
      "execution_count": null,
      "outputs": [
        {
          "output_type": "stream",
          "name": "stdout",
          "text": [
            "🌐 Public URL: NgrokTunnel: \"https://d0b2-34-58-9-52.ngrok-free.app\" -> \"http://localhost:5000\"\n",
            " * Serving Flask app '__main__'\n",
            " * Debug mode: off\n"
          ]
        },
        {
          "output_type": "stream",
          "name": "stderr",
          "text": [
            "INFO:werkzeug:\u001b[31m\u001b[1mWARNING: This is a development server. Do not use it in a production deployment. Use a production WSGI server instead.\u001b[0m\n",
            " * Running on http://127.0.0.1:5000\n",
            "INFO:werkzeug:\u001b[33mPress CTRL+C to quit\u001b[0m\n"
          ]
        },
        {
          "output_type": "stream",
          "name": "stdout",
          "text": [
            " * Running on http://d0b2-34-58-9-52.ngrok-free.app\n",
            " * Traffic stats available on http://127.0.0.1:4040\n"
          ]
        },
        {
          "output_type": "stream",
          "name": "stderr",
          "text": [
            "INFO:werkzeug:127.0.0.1 - - [14/May/2025 06:33:26] \"POST /callback HTTP/1.1\" 200 -\n",
            "INFO:werkzeug:127.0.0.1 - - [14/May/2025 06:34:42] \"POST /callback HTTP/1.1\" 200 -\n",
            "INFO:werkzeug:127.0.0.1 - - [14/May/2025 06:34:46] \"POST /callback HTTP/1.1\" 200 -\n"
          ]
        }
      ]
    }
  ]
}