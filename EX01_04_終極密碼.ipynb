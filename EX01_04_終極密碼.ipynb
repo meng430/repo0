{
  "nbformat": 4,
  "nbformat_minor": 0,
  "metadata": {
    "colab": {
      "provenance": [],
      "authorship_tag": "ABX9TyOdo3lvSWVKcVFGxULWSWvb",
      "include_colab_link": true
    },
    "kernelspec": {
      "name": "python3",
      "display_name": "Python 3"
    },
    "language_info": {
      "name": "python"
    }
  },
  "cells": [
    {
      "cell_type": "markdown",
      "metadata": {
        "id": "view-in-github",
        "colab_type": "text"
      },
      "source": [
        "<a href=\"https://colab.research.google.com/github/meng430/repo0/blob/main/EX01_04_%E7%B5%82%E6%A5%B5%E5%AF%86%E7%A2%BC.ipynb\" target=\"_parent\"><img src=\"https://colab.research.google.com/assets/colab-badge.svg\" alt=\"Open In Colab\"/></a>"
      ]
    },
    {
      "cell_type": "code",
      "execution_count": 2,
      "metadata": {
        "colab": {
          "base_uri": "https://localhost:8080/"
        },
        "id": "_JIVpg5W2dme",
        "outputId": "166fd91f-53f1-4aa8-b6eb-339fa8532c94"
      },
      "outputs": [
        {
          "output_type": "stream",
          "name": "stdout",
          "text": [
            "0 - 100\n",
            "請輸入終極密碼55\n",
            "0 - 55\n",
            "請輸入終極密碼16\n",
            "0 - 16\n",
            "請輸入終極密碼8\n",
            "0 - 8\n",
            "請輸入終極密碼5\n",
            "猜中了\n"
          ]
        }
      ],
      "source": [
        "import random\n",
        "bomb = random.randint(1, 99)\n",
        "\n",
        "#設定左邊界和右邊界\n",
        "lf = 0\n",
        "rt = 100\n",
        "\n",
        "while True:\n",
        "  print(lf, '-', rt)\n",
        "  gu = int(input(\"請輸入終極密碼\"))\n",
        "  #超過範圍\n",
        "  if gu > rt or gu <lf:\n",
        "    print(\"超過範圍\")\n",
        "  #比炸彈小\n",
        "  elif gu > bomb:\n",
        "    rt = gu\n",
        "  #比炸彈大\n",
        "  elif gu < bomb:\n",
        "    lf = gu\n",
        "  else:\n",
        "    print(\"猜中了\")\n",
        "    break"
      ]
    }
  ]
}