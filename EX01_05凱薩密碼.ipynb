{
  "nbformat": 4,
  "nbformat_minor": 0,
  "metadata": {
    "colab": {
      "provenance": [],
      "authorship_tag": "ABX9TyO+0ceG4L1yc54Q+pjVkBPa",
      "include_colab_link": true
    },
    "kernelspec": {
      "name": "python3",
      "display_name": "Python 3"
    },
    "language_info": {
      "name": "python"
    }
  },
  "cells": [
    {
      "cell_type": "markdown",
      "metadata": {
        "id": "view-in-github",
        "colab_type": "text"
      },
      "source": [
        "<a href=\"https://colab.research.google.com/github/meng430/repo0/blob/main/EX01_05%E5%87%B1%E8%96%A9%E5%AF%86%E7%A2%BC.ipynb\" target=\"_parent\"><img src=\"https://colab.research.google.com/assets/colab-badge.svg\" alt=\"Open In Colab\"/></a>"
      ]
    },
    {
      "cell_type": "code",
      "execution_count": 9,
      "metadata": {
        "colab": {
          "base_uri": "https://localhost:8080/"
        },
        "id": "5skEWJvaDpk0",
        "outputId": "7e5ab904-a348-4b83-a3cc-d600c88f6d58"
      },
      "outputs": [
        {
          "output_type": "stream",
          "name": "stdout",
          "text": [
            "請輸入加密或解密(加密:e,解密:d),請輸入金鑰d8\n",
            "ixxtm\n",
            "apple\n"
          ]
        }
      ],
      "source": [
        "act = input(\"請輸入加密或解密(加密:e,解密:d),請輸入金鑰\")\n",
        "txt = input()\n",
        "\n",
        "act_type = act[0]\n",
        "key = int(act[1])\n",
        "ntxt = \"\"\n",
        "\n",
        "if act_type == \"d\":\n",
        "  for c in txt:\n",
        "    nc = ord(c) - key\n",
        "    ntxt += chr(nc)\n",
        "else:\n",
        "  for c in txt:\n",
        "    nc = ord(c) + key\n",
        "    ntxt += chr(nc)\n",
        "print(ntxt)\n"
      ]
    },
    {
      "cell_type": "code",
      "source": [
        "ord(\"a\")"
      ],
      "metadata": {
        "colab": {
          "base_uri": "https://localhost:8080/"
        },
        "id": "zQd7w3ADGBrl",
        "outputId": "823d6315-437e-4a27-c5f0-250af82ef446"
      },
      "execution_count": 3,
      "outputs": [
        {
          "output_type": "execute_result",
          "data": {
            "text/plain": [
              "97"
            ]
          },
          "metadata": {},
          "execution_count": 3
        }
      ]
    }
  ]
}