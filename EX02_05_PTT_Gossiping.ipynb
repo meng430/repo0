{
  "nbformat": 4,
  "nbformat_minor": 0,
  "metadata": {
    "colab": {
      "provenance": [],
      "authorship_tag": "ABX9TyMOE+WBs1s3WzEa6Le54BOW",
      "include_colab_link": true
    },
    "kernelspec": {
      "name": "python3",
      "display_name": "Python 3"
    },
    "language_info": {
      "name": "python"
    }
  },
  "cells": [
    {
      "cell_type": "markdown",
      "metadata": {
        "id": "view-in-github",
        "colab_type": "text"
      },
      "source": [
        "<a href=\"https://colab.research.google.com/github/meng430/repo0/blob/main/EX02_05_PTT_Gossiping.ipynb\" target=\"_parent\"><img src=\"https://colab.research.google.com/assets/colab-badge.svg\" alt=\"Open In Colab\"/></a>"
      ]
    },
    {
      "cell_type": "markdown",
      "source": [
        "電影版"
      ],
      "metadata": {
        "id": "wE1M_hCkbj-A"
      }
    },
    {
      "cell_type": "code",
      "execution_count": 21,
      "metadata": {
        "colab": {
          "base_uri": "https://localhost:8080/"
        },
        "id": "D44nqkZG7iNc",
        "outputId": "43e48877-4c39-4cd6-aeda-d105b39fd190"
      },
      "outputs": [
        {
          "output_type": "execute_result",
          "data": {
            "text/plain": [
              "200"
            ]
          },
          "metadata": {},
          "execution_count": 21
        }
      ],
      "source": [
        "import requests\n",
        "from bs4 import BeautifulSoup\n",
        "\n",
        "url = \"https://www.ptt.cc/bbs/Movie/index.html\"\n",
        "r = requests.get(url)\n",
        "soup = BeautifulSoup(r.text, \"html.parser\")\n",
        "r.status_code"
      ]
    },
    {
      "cell_type": "code",
      "source": [
        "for article in soup.find_all('div', class_ = 'r-ent'):\n",
        "  title = article.find('div', class_ = 'title').a.text\n",
        "  href = 'https://www.ptt.cc' + article.find('div', class_ = 'title').a['href']\n",
        "  date = article.find('div', class_ = 'date').text\n",
        "  print(date, href, title)"
      ],
      "metadata": {
        "colab": {
          "base_uri": "https://localhost:8080/"
        },
        "id": "fvdlTI28ISQ6",
        "outputId": "4e02a479-42eb-4722-bc36-8b98495f686d"
      },
      "execution_count": 23,
      "outputs": [
        {
          "output_type": "stream",
          "name": "stdout",
          "text": [
            " 3/25 https://www.ptt.cc/bbs/movie/M.1742882992.A.C16.html [請益] 月老 原著比電影好看很多嗎?\n",
            " 3/25 https://www.ptt.cc/bbs/movie/M.1742883654.A.D09.html [新聞] 星際寶貝選角太白爭議\n",
            " 3/25 https://www.ptt.cc/bbs/movie/M.1742885304.A.3BD.html [討論] 你最喜歡王家衛東邪西毒的哪個角色?\n",
            " 3/25 https://www.ptt.cc/bbs/movie/M.1742887173.A.C86.html [情報] 《迷宮裡的魔術師》9月日本上映\n",
            " 9/04 https://www.ptt.cc/bbs/movie/M.1630756788.A.1FE.html [公告] 電影板板規 2022/12/5\n",
            " 9/15 https://www.ptt.cc/bbs/movie/M.1694784041.A.89F.html [公告] 禁政治版規 及 投票結果\n"
          ]
        }
      ]
    },
    {
      "cell_type": "code",
      "source": [
        "'https://www.ptt.cc'+soup.find('a', class_ = 'btn wide')['href']"
      ],
      "metadata": {
        "colab": {
          "base_uri": "https://localhost:8080/",
          "height": 35
        },
        "id": "QqfiFd2WZgSZ",
        "outputId": "3a3d7ac7-76fa-44ed-f8c8-83ae8859d72a"
      },
      "execution_count": 24,
      "outputs": [
        {
          "output_type": "execute_result",
          "data": {
            "text/plain": [
              "'https://www.ptt.cc//bbs/movie/index1.html'"
            ],
            "application/vnd.google.colaboratory.intrinsic+json": {
              "type": "string"
            }
          },
          "metadata": {},
          "execution_count": 24
        }
      ]
    },
    {
      "cell_type": "markdown",
      "source": [
        "八卦版"
      ],
      "metadata": {
        "id": "vEXm1BJSdzRd"
      }
    },
    {
      "cell_type": "code",
      "source": [
        "def get_articles(url):\n",
        "  r = requests.get(url, cookies=cookies)\n",
        "  soup = BeautifulSoup(r.text, \"html.parser\")\n",
        "  for article in soup.find_all('div', class_ = 'r-ent'):\n",
        "    if article.find('div', class_ = 'title').a:\n",
        "      title = article.find('div', class_ = 'title').a.text\n",
        "      href = 'https://www.ptt.cc' + article.find('div', class_ = 'title').a['href']\n",
        "    else:\n",
        "      title = article.find('div', class_ = 'title').text.strip()\n",
        "      href = ''\n",
        "    date = article.find('div', class_ = 'date').text\n",
        "    print(date, href, title)\n",
        "  url = 'https://www.ptt.cc'+soup.find('a', class_ = 'btn wide')['href']\n",
        "  return url\n",
        "\n",
        "url = 'https://www.ptt.cc/bbs/Gossiping/index.html'\n",
        "cookies = {'over18': '1'}\n",
        "for i in range(5):\n",
        "  url = get_articles(url)"
      ],
      "metadata": {
        "colab": {
          "base_uri": "https://localhost:8080/"
        },
        "id": "RxMHow5-aDNP",
        "outputId": "175e9031-9db3-4b5b-cc81-7d18e49b9cc8"
      },
      "execution_count": 30,
      "outputs": [
        {
          "output_type": "stream",
          "name": "stdout",
          "text": [
            " 3/25 https://www.ptt.cc/bbs/Gossiping/M.1742891283.A.7F7.html [新聞] 女住飯店泡裸湯！男員工突闖喊「快出來」\n",
            " 3/25 https://www.ptt.cc/bbs/Gossiping/M.1742891298.A.500.html [問卦] 急！被水泥車壓到還有救嗎？\n",
            " 3/25 https://www.ptt.cc/bbs/Gossiping/M.1742891337.A.E92.html Re: [問卦] 為啥要反對重機上國道??????????????????\n",
            " 3/25 https://www.ptt.cc/bbs/Gossiping/M.1742891362.A.4F6.html Re: [新聞] 日刑事補償最高金額！ 「最長壽死囚」沉\n",
            " 3/25 https://www.ptt.cc/bbs/Gossiping/M.1742891429.A.8F9.html [問卦] 肥宅會穿耳洞嗎\n",
            " 3/25 https://www.ptt.cc/bbs/Gossiping/M.1742891487.A.80A.html [問卦] 當年台海危機，哪裡的房最沒人買\n",
            " 3/25 https://www.ptt.cc/bbs/Gossiping/M.1742891489.A.899.html [問卦] 這樣也算宣傳武統嗎\n",
            " 3/25 https://www.ptt.cc/bbs/Gossiping/M.1742891531.A.5F1.html [問卦] 台灣5G烙賽的主因是啥\n",
            " 3/25 https://www.ptt.cc/bbs/Gossiping/M.1742891563.A.4A3.html [問卦] 現在的車子 怎麼沒人裝方向盤大鎖了\n",
            " 3/25 https://www.ptt.cc/bbs/Gossiping/M.1742891591.A.5DF.html [新聞] 湖大女生離奇死手機留破屋 官稱「自殺」\n",
            " 3/25 https://www.ptt.cc/bbs/Gossiping/M.1742891617.A.05F.html [問卦] 往往發動戰爭的挑釁引戰的 都是那些不上\n",
            " 3/25 https://www.ptt.cc/bbs/Gossiping/M.1742891685.A.16B.html [問卦] 發票中一千萬分感激如何慶祝\n",
            " 3/25 https://www.ptt.cc/bbs/Gossiping/M.1742891697.A.E71.html Re: [問卦]比特犬咬人很多人說是養的人問題 也不去領\n",
            " 3/25 https://www.ptt.cc/bbs/Gossiping/M.1742891707.A.574.html [問卦] 女同事穿著白衣不怕被人看內衣嗎（圖\n",
            " 3/25 https://www.ptt.cc/bbs/Gossiping/M.1742891809.A.109.html [問卦]  送媽媽女前輩建議要送什麼？\n",
            " 3/25 https://www.ptt.cc/bbs/Gossiping/M.1742891893.A.AF6.html Re: [問卦] 歐洲治安差又髒？\n",
            " 3/25 https://www.ptt.cc/bbs/Gossiping/M.1742891974.A.6D1.html [問卦] 發票中1500該如何慶祝？\n",
            " 3/25 https://www.ptt.cc/bbs/Gossiping/M.1742891992.A.7F3.html [問卦] 走在路上視線會自動往奶子看是什麼人\n",
            " 3/25 https://www.ptt.cc/bbs/Gossiping/M.1742892001.A.272.html [問卦] 日本米價再上漲 農水省：我們已經不知道\n",
            "11/02 https://www.ptt.cc/bbs/Gossiping/M.1730554547.A.41C.html Fw: [公告] 請留意新註冊帳號使用信件詐騙\n",
            " 1/21 https://www.ptt.cc/bbs/Gossiping/M.1737398137.A.644.html [公告] 八卦板板規(2025.01.21)\n",
            " 2/20 https://www.ptt.cc/bbs/Gossiping/M.1740024219.A.1EB.html [公告]  春季大反攻！！八卦板主徵選報名開始捏\n",
            " 3/12 https://www.ptt.cc/bbs/Gossiping/M.1741791500.A.EB6.html Fw: [公告] 請避免與登入1次之帳號進行交易 發錢\n",
            " 6/20 https://www.ptt.cc/bbs/Gossiping/M.1119222611.A.7A9.html 第一耶！\n",
            " 6/20 https://www.ptt.cc/bbs/Gossiping/M.1119222660.A.94E.html Re: (問題)華航空難留言\n",
            " 6/20 https://www.ptt.cc/bbs/Gossiping/M.1119233779.A.191.html Re: 有沒有明天會更好的八卦\n",
            " 6/20 https://www.ptt.cc/bbs/Gossiping/M.1119240642.A.EB1.html Re: 請問還有濁水溪公設的八卦嗎\n",
            " 6/20 https://www.ptt.cc/bbs/Gossiping/M.1119243418.A.790.html Re: (問題)華航空難留言\n",
            " 6/20 https://www.ptt.cc/bbs/Gossiping/M.1119245434.A.830.html [八卦] \n",
            " 6/20 https://www.ptt.cc/bbs/Gossiping/M.1119247736.A.35B.html Re: [問題]職棒似乎又出現問題了...\n",
            " 6/20 https://www.ptt.cc/bbs/Gossiping/M.1119250669.A.EA3.html Re: [政商] 請問桌伯元的八卦?\n",
            " 6/20 https://www.ptt.cc/bbs/Gossiping/M.1119257927.A.60D.html Re: [新聞] 張震月的八卦有嗎？\n",
            " 6/20 https://www.ptt.cc/bbs/Gossiping/M.1119258686.A.6FC.html Re: [政商] 請問桌伯元的八卦?\n",
            " 6/20 https://www.ptt.cc/bbs/Gossiping/M.1119259437.A.FC2.html Re: [政商] 請問桌伯元的八卦?\n",
            " 6/20 https://www.ptt.cc/bbs/Gossiping/M.1119260880.A.D81.html Re: [名人] 有人記得高雄數學補教老師魚課斌嗎？\n",
            " 6/20 https://www.ptt.cc/bbs/Gossiping/M.1119263351.A.BED.html [藝人] 釁悅糰的阿釁\n",
            " 6/20 https://www.ptt.cc/bbs/Gossiping/M.1119264333.A.E75.html Re: [政商] 有羅文傢的八卦?\n",
            " 6/20 https://www.ptt.cc/bbs/Gossiping/M.1119271499.A.567.html Re: 有沒有米其淋的美食還是什麼評鑑八卦\n",
            " 6/20 https://www.ptt.cc/bbs/Gossiping/M.1119273275.A.49F.html Re: 有沒有米其淋的美食還是什麼評鑑八卦\n",
            " 6/20 https://www.ptt.cc/bbs/Gossiping/M.1119274578.A.519.html Re: [問題]職棒似乎又出現問題了...\n",
            " 6/21 https://www.ptt.cc/bbs/Gossiping/M.1119341662.A.BF4.html Re: 誰有張憲義的八卦??\n",
            " 6/21 https://www.ptt.cc/bbs/Gossiping/M.1119353007.A.95E.html Re: [藝人] 小紅恩\n",
            " 6/21 https://www.ptt.cc/bbs/Gossiping/M.1119354366.A.960.html Re: [政商] 有沒有前任管媒體局長林佳隆的八卦\n",
            " 6/20 https://www.ptt.cc/bbs/Gossiping/M.1119222611.A.7A9.html 第一耶！\n",
            " 6/20 https://www.ptt.cc/bbs/Gossiping/M.1119222660.A.94E.html Re: (問題)華航空難留言\n",
            " 6/20 https://www.ptt.cc/bbs/Gossiping/M.1119233779.A.191.html Re: 有沒有明天會更好的八卦\n",
            " 6/20 https://www.ptt.cc/bbs/Gossiping/M.1119240642.A.EB1.html Re: 請問還有濁水溪公設的八卦嗎\n",
            " 6/20 https://www.ptt.cc/bbs/Gossiping/M.1119243418.A.790.html Re: (問題)華航空難留言\n",
            " 6/20 https://www.ptt.cc/bbs/Gossiping/M.1119245434.A.830.html [八卦] \n",
            " 6/20 https://www.ptt.cc/bbs/Gossiping/M.1119247736.A.35B.html Re: [問題]職棒似乎又出現問題了...\n",
            " 6/20 https://www.ptt.cc/bbs/Gossiping/M.1119250669.A.EA3.html Re: [政商] 請問桌伯元的八卦?\n",
            " 6/20 https://www.ptt.cc/bbs/Gossiping/M.1119257927.A.60D.html Re: [新聞] 張震月的八卦有嗎？\n",
            " 6/20 https://www.ptt.cc/bbs/Gossiping/M.1119258686.A.6FC.html Re: [政商] 請問桌伯元的八卦?\n",
            " 6/20 https://www.ptt.cc/bbs/Gossiping/M.1119259437.A.FC2.html Re: [政商] 請問桌伯元的八卦?\n",
            " 6/20 https://www.ptt.cc/bbs/Gossiping/M.1119260880.A.D81.html Re: [名人] 有人記得高雄數學補教老師魚課斌嗎？\n",
            " 6/20 https://www.ptt.cc/bbs/Gossiping/M.1119263351.A.BED.html [藝人] 釁悅糰的阿釁\n",
            " 6/20 https://www.ptt.cc/bbs/Gossiping/M.1119264333.A.E75.html Re: [政商] 有羅文傢的八卦?\n",
            " 6/20 https://www.ptt.cc/bbs/Gossiping/M.1119271499.A.567.html Re: 有沒有米其淋的美食還是什麼評鑑八卦\n",
            " 6/20 https://www.ptt.cc/bbs/Gossiping/M.1119273275.A.49F.html Re: 有沒有米其淋的美食還是什麼評鑑八卦\n",
            " 6/20 https://www.ptt.cc/bbs/Gossiping/M.1119274578.A.519.html Re: [問題]職棒似乎又出現問題了...\n",
            " 6/21 https://www.ptt.cc/bbs/Gossiping/M.1119341662.A.BF4.html Re: 誰有張憲義的八卦??\n",
            " 6/21 https://www.ptt.cc/bbs/Gossiping/M.1119353007.A.95E.html Re: [藝人] 小紅恩\n",
            " 6/21 https://www.ptt.cc/bbs/Gossiping/M.1119354366.A.960.html Re: [政商] 有沒有前任管媒體局長林佳隆的八卦\n",
            " 6/20 https://www.ptt.cc/bbs/Gossiping/M.1119222611.A.7A9.html 第一耶！\n",
            " 6/20 https://www.ptt.cc/bbs/Gossiping/M.1119222660.A.94E.html Re: (問題)華航空難留言\n",
            " 6/20 https://www.ptt.cc/bbs/Gossiping/M.1119233779.A.191.html Re: 有沒有明天會更好的八卦\n",
            " 6/20 https://www.ptt.cc/bbs/Gossiping/M.1119240642.A.EB1.html Re: 請問還有濁水溪公設的八卦嗎\n",
            " 6/20 https://www.ptt.cc/bbs/Gossiping/M.1119243418.A.790.html Re: (問題)華航空難留言\n",
            " 6/20 https://www.ptt.cc/bbs/Gossiping/M.1119245434.A.830.html [八卦] \n",
            " 6/20 https://www.ptt.cc/bbs/Gossiping/M.1119247736.A.35B.html Re: [問題]職棒似乎又出現問題了...\n",
            " 6/20 https://www.ptt.cc/bbs/Gossiping/M.1119250669.A.EA3.html Re: [政商] 請問桌伯元的八卦?\n",
            " 6/20 https://www.ptt.cc/bbs/Gossiping/M.1119257927.A.60D.html Re: [新聞] 張震月的八卦有嗎？\n",
            " 6/20 https://www.ptt.cc/bbs/Gossiping/M.1119258686.A.6FC.html Re: [政商] 請問桌伯元的八卦?\n",
            " 6/20 https://www.ptt.cc/bbs/Gossiping/M.1119259437.A.FC2.html Re: [政商] 請問桌伯元的八卦?\n",
            " 6/20 https://www.ptt.cc/bbs/Gossiping/M.1119260880.A.D81.html Re: [名人] 有人記得高雄數學補教老師魚課斌嗎？\n",
            " 6/20 https://www.ptt.cc/bbs/Gossiping/M.1119263351.A.BED.html [藝人] 釁悅糰的阿釁\n",
            " 6/20 https://www.ptt.cc/bbs/Gossiping/M.1119264333.A.E75.html Re: [政商] 有羅文傢的八卦?\n",
            " 6/20 https://www.ptt.cc/bbs/Gossiping/M.1119271499.A.567.html Re: 有沒有米其淋的美食還是什麼評鑑八卦\n",
            " 6/20 https://www.ptt.cc/bbs/Gossiping/M.1119273275.A.49F.html Re: 有沒有米其淋的美食還是什麼評鑑八卦\n",
            " 6/20 https://www.ptt.cc/bbs/Gossiping/M.1119274578.A.519.html Re: [問題]職棒似乎又出現問題了...\n",
            " 6/21 https://www.ptt.cc/bbs/Gossiping/M.1119341662.A.BF4.html Re: 誰有張憲義的八卦??\n",
            " 6/21 https://www.ptt.cc/bbs/Gossiping/M.1119353007.A.95E.html Re: [藝人] 小紅恩\n",
            " 6/21 https://www.ptt.cc/bbs/Gossiping/M.1119354366.A.960.html Re: [政商] 有沒有前任管媒體局長林佳隆的八卦\n",
            " 6/20 https://www.ptt.cc/bbs/Gossiping/M.1119222611.A.7A9.html 第一耶！\n",
            " 6/20 https://www.ptt.cc/bbs/Gossiping/M.1119222660.A.94E.html Re: (問題)華航空難留言\n",
            " 6/20 https://www.ptt.cc/bbs/Gossiping/M.1119233779.A.191.html Re: 有沒有明天會更好的八卦\n",
            " 6/20 https://www.ptt.cc/bbs/Gossiping/M.1119240642.A.EB1.html Re: 請問還有濁水溪公設的八卦嗎\n",
            " 6/20 https://www.ptt.cc/bbs/Gossiping/M.1119243418.A.790.html Re: (問題)華航空難留言\n",
            " 6/20 https://www.ptt.cc/bbs/Gossiping/M.1119245434.A.830.html [八卦] \n",
            " 6/20 https://www.ptt.cc/bbs/Gossiping/M.1119247736.A.35B.html Re: [問題]職棒似乎又出現問題了...\n",
            " 6/20 https://www.ptt.cc/bbs/Gossiping/M.1119250669.A.EA3.html Re: [政商] 請問桌伯元的八卦?\n",
            " 6/20 https://www.ptt.cc/bbs/Gossiping/M.1119257927.A.60D.html Re: [新聞] 張震月的八卦有嗎？\n",
            " 6/20 https://www.ptt.cc/bbs/Gossiping/M.1119258686.A.6FC.html Re: [政商] 請問桌伯元的八卦?\n",
            " 6/20 https://www.ptt.cc/bbs/Gossiping/M.1119259437.A.FC2.html Re: [政商] 請問桌伯元的八卦?\n",
            " 6/20 https://www.ptt.cc/bbs/Gossiping/M.1119260880.A.D81.html Re: [名人] 有人記得高雄數學補教老師魚課斌嗎？\n",
            " 6/20 https://www.ptt.cc/bbs/Gossiping/M.1119263351.A.BED.html [藝人] 釁悅糰的阿釁\n",
            " 6/20 https://www.ptt.cc/bbs/Gossiping/M.1119264333.A.E75.html Re: [政商] 有羅文傢的八卦?\n",
            " 6/20 https://www.ptt.cc/bbs/Gossiping/M.1119271499.A.567.html Re: 有沒有米其淋的美食還是什麼評鑑八卦\n",
            " 6/20 https://www.ptt.cc/bbs/Gossiping/M.1119273275.A.49F.html Re: 有沒有米其淋的美食還是什麼評鑑八卦\n",
            " 6/20 https://www.ptt.cc/bbs/Gossiping/M.1119274578.A.519.html Re: [問題]職棒似乎又出現問題了...\n",
            " 6/21 https://www.ptt.cc/bbs/Gossiping/M.1119341662.A.BF4.html Re: 誰有張憲義的八卦??\n",
            " 6/21 https://www.ptt.cc/bbs/Gossiping/M.1119353007.A.95E.html Re: [藝人] 小紅恩\n",
            " 6/21 https://www.ptt.cc/bbs/Gossiping/M.1119354366.A.960.html Re: [政商] 有沒有前任管媒體局長林佳隆的八卦\n"
          ]
        }
      ]
    },
    {
      "cell_type": "code",
      "source": [],
      "metadata": {
        "id": "5fpaBBCJbqJt"
      },
      "execution_count": null,
      "outputs": []
    }
  ]
}