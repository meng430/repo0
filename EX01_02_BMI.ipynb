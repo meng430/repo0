{
  "nbformat": 4,
  "nbformat_minor": 0,
  "metadata": {
    "colab": {
      "provenance": [],
      "authorship_tag": "ABX9TyOUUmzeNFcZFED8c0RJoTXo",
      "include_colab_link": true
    },
    "kernelspec": {
      "name": "python3",
      "display_name": "Python 3"
    },
    "language_info": {
      "name": "python"
    }
  },
  "cells": [
    {
      "cell_type": "markdown",
      "metadata": {
        "id": "view-in-github",
        "colab_type": "text"
      },
      "source": [
        "<a href=\"https://colab.research.google.com/github/meng430/repo0/blob/main/EX01_02_BMI.ipynb\" target=\"_parent\"><img src=\"https://colab.research.google.com/assets/colab-badge.svg\" alt=\"Open In Colab\"/></a>"
      ]
    },
    {
      "cell_type": "code",
      "execution_count": 4,
      "metadata": {
        "colab": {
          "base_uri": "https://localhost:8080/"
        },
        "id": "U4HOHeSlLAaF",
        "outputId": "5f31023d-f752-4045-a087-55256b9b7426"
      },
      "outputs": [
        {
          "output_type": "stream",
          "name": "stdout",
          "text": [
            "height:(cm)177\n",
            "weight:(kg)80\n",
            "bmi: 25.5\n"
          ]
        }
      ],
      "source": [
        "height = float((input(\"height:(cm)\")))\n",
        "weight = float((input(\"weight:(kg)\")))\n",
        "bmi = weight / (height / 100) ** 2\n",
        "\n",
        "#四捨五入到小數點第一位\n",
        "print(\"bmi:\",round(bmi, 1))"
      ]
    }
  ]
}