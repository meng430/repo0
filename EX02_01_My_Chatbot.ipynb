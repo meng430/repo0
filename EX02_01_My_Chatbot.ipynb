{
  "nbformat": 4,
  "nbformat_minor": 0,
  "metadata": {
    "colab": {
      "provenance": [],
      "authorship_tag": "ABX9TyOMAQSxJV7MQpukgfwaL2BP",
      "include_colab_link": true
    },
    "kernelspec": {
      "name": "python3",
      "display_name": "Python 3"
    },
    "language_info": {
      "name": "python"
    }
  },
  "cells": [
    {
      "cell_type": "markdown",
      "metadata": {
        "id": "view-in-github",
        "colab_type": "text"
      },
      "source": [
        "<a href=\"https://colab.research.google.com/github/meng430/repo0/blob/main/EX02_01_My_Chatbot.ipynb\" target=\"_parent\"><img src=\"https://colab.research.google.com/assets/colab-badge.svg\" alt=\"Open In Colab\"/></a>"
      ]
    },
    {
      "cell_type": "code",
      "execution_count": null,
      "metadata": {
        "id": "I_qSW-UNKgor"
      },
      "outputs": [],
      "source": [
        "from google.colab import userdata\n",
        "import google.generativeai as genai\n",
        "genai.configure(api_key=userdata.get('GOOGLE_API_KEY'))"
      ]
    },
    {
      "cell_type": "code",
      "source": [
        "generation_config ={\n",
        "    \"temperature\":1,\n",
        "    \"max_output_tokens\":1024\n",
        "}\n",
        "model = genai.GenerativeModel(\n",
        "    model_name=\"gemini-2.0-flash\",\n",
        "    generation_config=generation_config\n",
        ")"
      ],
      "metadata": {
        "id": "l553ta6-ScDl"
      },
      "execution_count": null,
      "outputs": []
    },
    {
      "cell_type": "code",
      "source": [
        "from IPython.display import display,Markdown\n",
        "\n",
        "chat = model.start_chat(history=[])\n",
        "\n",
        "while True:\n",
        "  user = input(\"You:\")\n",
        "  response = chat.send_message(user)\n",
        "  if user == \"quit\":\n",
        "    break\n",
        "  print(\"Bot:\")\n",
        "  display(Markdown(response.text))"
      ],
      "metadata": {
        "colab": {
          "base_uri": "https://localhost:8080/",
          "height": 1000
        },
        "id": "rMipo_jaUhU2",
        "outputId": "a4b976eb-3bfb-4f83-f541-55c177df4249"
      },
      "execution_count": null,
      "outputs": [
        {
          "output_type": "stream",
          "name": "stdout",
          "text": [
            "You:hi\n",
            "Bot:\n"
          ]
        },
        {
          "output_type": "display_data",
          "data": {
            "text/plain": [
              "<IPython.core.display.Markdown object>"
            ],
            "text/markdown": "Hi there! How can I help you today?\n"
          },
          "metadata": {}
        },
        {
          "output_type": "stream",
          "name": "stdout",
          "text": [
            "You:how ai works\n",
            "Bot:\n"
          ]
        },
        {
          "output_type": "display_data",
          "data": {
            "text/plain": [
              "<IPython.core.display.Markdown object>"
            ],
            "text/markdown": "Okay, let's break down how AI works. It's a broad field, so I'll try to keep it understandable and touch on the core concepts.\n\n**At its most basic:**\n\nAI is about getting computers to do things that would normally require human intelligence. This includes things like:\n\n*   **Learning:** Improving performance over time based on data.\n*   **Reasoning:** Solving problems and making decisions.\n*   **Perception:** Understanding the world through senses (like vision and speech).\n*   **Natural Language Processing:** Understanding and generating human language.\n\n**Key Components and Techniques:**\n\n1.  **Data:** This is the fuel for AI. The more data you have, the better AI can often learn. This data can be anything: images, text, numbers, sounds, etc.\n\n2.  **Algorithms:** These are sets of instructions that tell the computer how to process the data and achieve a specific goal. Think of them like recipes for AI.\n\n3.  **Machine Learning (ML):** This is a *subset* of AI and one of the most common ways AI is achieved. Instead of explicitly programming a computer to do something, we *train* it using data.  Here's a breakdown of common ML approaches:\n\n    *   **Supervised Learning:** You give the algorithm labeled data.  For example, you might show it thousands of pictures of cats and dogs, telling it which is which.  The algorithm learns to associate features (like pointy ears or a wagging tail) with the correct label.  Then, when you show it a new picture, it can predict whether it's a cat or a dog. Common examples include:\n        *   **Classification:** Categorizing data into classes (e.g., spam/not spam).\n        *   **Regression:** Predicting a continuous value (e.g., predicting the price of a house).\n\n    *   **Unsupervised Learning:** You give the algorithm unlabeled data. The algorithm has to find patterns and structures in the data on its own. For example, you might give it a bunch of customer data and it might identify different groups of customers with similar buying habits. Common examples include:\n        *   **Clustering:** Grouping similar data points together.\n        *   **Dimensionality Reduction:** Simplifying data by reducing the number of variables.\n\n    *   **Reinforcement Learning:** The algorithm learns by trial and error in an environment. It receives rewards or penalties for its actions, and it learns to maximize its rewards. Think of it like training a dog with treats. This is often used in robotics, game playing, and autonomous driving.\n\n4.  **Deep Learning:** This is a *subset* of machine learning that uses artificial neural networks with many layers (hence \"deep\").  These networks are inspired by the structure of the human brain. Deep learning excels at complex tasks like image recognition, natural language processing, and speech recognition.  They require a large amount of data and computing power.\n\n    *   **Neural Networks:** Composed of interconnected nodes (neurons) organized in layers.  Each connection has a weight, and the network learns by adjusting these weights.\n    *   **Convolutional Neural Networks (CNNs):**  Particularly good for image and video processing.\n    *   **Recurrent Neural Networks (RNNs):**  Good for processing sequential data, like text and time series.\n    *   **Transformers:** A newer type of neural network architecture that has revolutionized natural language processing.\n\n5.  **Hardware:**  AI can be computationally intensive, especially deep learning.  Powerful computers with specialized hardware, like GPUs (Graphics Processing Units), are often used to train and run AI models. TPUs (Tensor Processing Units) are also specifically designed for AI tasks.\n\n**The AI Workflow (Simplified):**\n\n1.  **Gather Data:** Collect relevant data for your task.\n2.  **Prepare Data:** Clean, preprocess, and format the data so the algorithm can use it. This might involve removing errors, handling missing values, and converting data into a suitable format.\n3.  **Choose a Model:** Select an appropriate AI model (e.g., a neural network, a decision tree, etc.) based on the type of problem you're trying to solve and the data you have.\n4.  **Train the Model:** Feed the data to the model and let it learn the patterns. This is where the algorithm adjusts its internal parameters to minimize errors.\n5.  **Evaluate the Model:** Test the model on a separate dataset to see how well it performs.\n6.  **Deploy the Model:** Put the trained model into use, either as part of an application or a service.\n7.  **Monitor and Retrain:** Continuously monitor the model's performance and retrain it with new data to keep it accurate and up-to-date.\n\n**"
          },
          "metadata": {}
        },
        {
          "name": "stdout",
          "output_type": "stream",
          "text": [
            "You:quit\n"
          ]
        }
      ]
    }
  ]
}